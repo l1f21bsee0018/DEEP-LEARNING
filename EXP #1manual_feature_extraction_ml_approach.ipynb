{
  "nbformat": 4,
  "nbformat_minor": 0,
  "metadata": {
    "colab": {
      "provenance": [],
      "include_colab_link": true
    },
    "kernelspec": {
      "name": "python3",
      "display_name": "Python 3"
    },
    "language_info": {
      "name": "python"
    }
  },
  "cells": [
    {
      "cell_type": "markdown",
      "metadata": {
        "id": "view-in-github",
        "colab_type": "text"
      },
      "source": [
        "<a href=\"https://colab.research.google.com/github/l1f21bsee0018/DEEP-LEARNING/blob/main/EXP%20%231manual_feature_extraction_ml_approach.ipynb\" target=\"_parent\"><img src=\"https://colab.research.google.com/assets/colab-badge.svg\" alt=\"Open In Colab\"/></a>"
      ]
    },
    {
      "cell_type": "code",
      "execution_count": null,
      "metadata": {
        "colab": {
          "base_uri": "https://localhost:8080/",
          "height": 310
        },
        "id": "dKkxYFd_Se2Y",
        "outputId": "2bb57f11-04df-46fb-a90a-075ec382ea18"
      },
      "outputs": [
        {
          "output_type": "display_data",
          "data": {
            "text/plain": [
              "<Figure size 1000x500 with 3 Axes>"
            ],
            "image/png": "[encoded data removed]"
          },
          "metadata": {}
        }
      ],
      "source": [
        "# Step 1: Create binary images for circle, square, and triangle\n",
        "import numpy as np\n",
        "import cv2\n",
        "import matplotlib.pyplot as plt\n",
        "\n",
        "imgSize = 150  # Image size\n",
        "\n",
        "# Create a circle\n",
        "circleImg = np.zeros((imgSize, imgSize), dtype=np.uint8)\n",
        "center = (imgSize // 2, imgSize // 2)  # Center of the image\n",
        "radius = 20  # Radius of the circle\n",
        "cv2.circle(circleImg, center, radius, 1, thickness=-1)\n",
        "\n",
        "# Create a square\n",
        "squareImg = np.zeros((imgSize, imgSize), dtype=np.uint8)\n",
        "squareImg[30:70, 30:70] = 1\n",
        "\n",
        "# Create a triangle (equilateral triangle)\n",
        "triangleImg = np.zeros((imgSize, imgSize), dtype=np.uint8)\n",
        "vertices = np.array([[50, 30], [30, 70], [70, 70]], dtype=np.int32)\n",
        "cv2.fillPoly(triangleImg, [vertices], 1)\n",
        "\n",
        "# Display the images\n",
        "plt.figure(figsize=(10, 5))\n",
        "\n",
        "plt.subplot(1, 3, 1)\n",
        "plt.imshow(circleImg, cmap='gray')\n",
        "plt.title('Circle')\n",
        "\n",
        "plt.subplot(1, 3, 2)\n",
        "plt.imshow(squareImg, cmap='gray')\n",
        "plt.title('Square')\n",
        "\n",
        "plt.subplot(1, 3, 3)\n",
        "plt.imshow(triangleImg, cmap='gray')\n",
        "plt.title('Triangle')\n",
        "\n",
        "plt.show()\n",
        "\n",
        "# Step 2: Extract features manually (Area, Perimeter, Circularity)\n",
        "def calculate_area(img):\n",
        "    return np.sum(img)\n",
        "\n",
        "def calculate_perimeter(img):\n",
        "    return np.sum(cv2.Canny(img, 100, 200) > 0)\n",
        "\n",
        "def calculate_circularity(area, perimeter):\n",
        "    return (4 * np.pi * area) / (perimeter ** 2) if perimeter != 0 else 0\n",
        "\n",
        "# Extract features for each image\n",
        "circleArea = calculate_area(circleImg)\n",
        "circlePerimeter = calculate_perimeter(circleImg)\n",
        "circleCircularity = calculate_circularity(circleArea, circlePerimeter)\n",
        "\n",
        "squareArea = calculate_area(squareImg)\n",
        "squarePerimeter = calculate_perimeter(squareImg)\n",
        "squareCircularity = calculate_circularity(squareArea, squarePerimeter)\n",
        "\n",
        "triangleArea = calculate_area(triangleImg)\n",
        "trianglePerimeter = calculate_perimeter(triangleImg)\n",
        "triangleCircularity = calculate_circularity(triangleArea, trianglePerimeter)\n",
        "\n",
        "# Combine features into a training dataset\n",
        "trainingData = np.array([\n",
        "    [circleArea, circlePerimeter, circleCircularity],\n",
        "    [squareArea, squarePerimeter, squareCircularity],\n",
        "    [triangleArea, trianglePerimeter, triangleCircularity]\n",
        "])\n",
        "trainingLabels = np.array([1, 2, 3])  # 1 = Circle, 2 = Square, 3 = Triangle\n",
        "\n",
        "# Step 3: Train a k-NN classifier\n",
        "from sklearn.neighbors import KNeighborsClassifier\n",
        "\n",
        "# Train k-NN model\n",
        "knn = KNeighborsClassifier(n_neighbors=1)\n",
        "knn.fit(trainingData, trainingLabels)\n",
        "\n",
        "# Step 4: Test the classifier with a new image\n",
        "# Create a test image (e.g., a triangle)\n",
        "testImg = circleImg  # Change this to circleImg or squareImg for testing\n",
        "\n",
        "# Extract features from the test image\n",
        "testArea = calculate_area(testImg)\n",
        "testPerimeter = calculate_perimeter(testImg)\n",
        "testCircularity = calculate_circularity(testArea, testPerimeter)\n",
        "testFeatures = np.array([[testArea, testPerimeter, testCircularity]])\n",
        "\n",
        "# Predict the shape\n",
        "predictedLabel = knn.predict(testFeatures)\n",
        "\n"
      ]
    },
    {
      "cell_type": "code",
      "source": [
        "# Display the result\n",
        "if predictedLabel == 1:\n",
        "    print('The image contains a circle.')\n",
        "elif predictedLabel == 2:\n",
        "    print('The image contains a square.')\n",
        "elif predictedLabel == 3:\n",
        "    print('The image contains a triangle.')\n",
        "else:\n",
        "    print('Unknown shape.')"
      ],
      "metadata": {
        "colab": {
          "base_uri": "https://localhost:8080/"
        },
        "id": "8uJT3ZCwMv31",
        "outputId": "f1fa4e61-b5e2-4fa2-8e23-33bde2999f29"
      },
      "execution_count": null,
      "outputs": [
        {
          "output_type": "stream",
          "name": "stdout",
          "text": [
            "The image contains a circle.\n"
          ]
        }
      ]
    }
  ]
}