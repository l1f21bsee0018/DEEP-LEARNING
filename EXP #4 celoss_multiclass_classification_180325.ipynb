{
  "nbformat": 4,
  "nbformat_minor": 0,
  "metadata": {
    "colab": {
      "provenance": [],
      "include_colab_link": true
    },
    "kernelspec": {
      "name": "python3",
      "display_name": "Python 3"
    },
    "language_info": {
      "name": "python"
    }
  },
  "cells": [
    {
      "cell_type": "markdown",
      "metadata": {
        "id": "view-in-github",
        "colab_type": "text"
      },
      "source": [
        "<a href=\"https://colab.research.google.com/github/l1f21bsee0018/DEEP-LEARNING/blob/main/EXP%20%234%20celoss_multiclass_classification_180325.ipynb\" target=\"_parent\"><img src=\"https://colab.research.google.com/assets/colab-badge.svg\" alt=\"Open In Colab\"/></a>"
      ]
    },
    {
      "cell_type": "code",
      "execution_count": null,
      "metadata": {
        "colab": {
          "base_uri": "https://localhost:8080/"
        },
        "id": "tZe5Kult2s_V",
        "outputId": "aff03a0c-6447-471a-ed73-0d99e3029a86"
      },
      "outputs": [
        {
          "output_type": "stream",
          "name": "stdout",
          "text": [
            "Softmax Probabilities:\n",
            " [[0.59426642 0.2186184  0.08888361 0.09823158]\n",
            " [0.10203879 0.75397036 0.0755922  0.06839865]\n",
            " [0.04397746 0.04860261 0.79925282 0.10816711]\n",
            " [0.1920369  0.52201041 0.12872618 0.15722651]\n",
            " [0.07725824 0.06990614 0.69725663 0.15557898]]\n",
            "\n",
            "Log of Softmax Probabilities:\n",
            " [[-0.52042755 -1.52042755 -2.42042755 -2.32042755]\n",
            " [-2.28240222 -0.28240222 -2.58240222 -2.68240222]\n",
            " [-3.12407797 -3.02407797 -0.22407797 -2.22407797]\n",
            " [-1.65006775 -0.65006775 -2.05006775 -1.85006775]\n",
            " [-2.56060174 -2.66060174 -0.36060174 -1.86060174]]\n",
            "\n",
            "y_true * log(probs):\n",
            " [[-0.52042755 -0.         -0.         -0.        ]\n",
            " [-0.         -0.28240222 -0.         -2.68240222]\n",
            " [-0.         -0.         -0.22407797 -0.        ]\n",
            " [-0.         -0.65006775 -2.05006775 -1.85006775]\n",
            " [-2.56060174 -0.         -0.36060174 -0.        ]]\n",
            "\n",
            "CE Loss per Sample: [0.52042755 2.96480444 0.22407797 4.55020326 2.92120348]\n",
            "\n",
            "Average CE Loss for the Dataset: 2.2361433370793407\n"
          ]
        }
      ],
      "source": [
        "import numpy as np\n",
        "\n",
        "# Ground truth labels (one-hot encoded)\n",
        "y_true = np.array([\n",
        "    [1, 0, 0, 0],  # Sample 1: Class 1\n",
        "    [0, 1, 0, 1],  # Sample 2: Class 2\n",
        "    [0, 0, 1, 0],  # Sample 3: Class 3\n",
        "    [0, 1, 1, 1],  # Sample 4: Class 4\n",
        "    [1, 0, 1, 0],  # Sample 5: Class 5\n",
        "])\n",
        "\n",
        "# Model predictions (logits)\n",
        "logits = np.array([\n",
        "    [2.0, 1.0, 0.1,0.2],  # Sample 1\n",
        "    [0.5, 2.5, 0.2,0.1],  # Sample 2\n",
        "    [0.1, 0.2, 3.0,1.0] ,  # Sample 3\n",
        "    [0.5, 1.5, 0.1,0.3],  # Sample 4\n",
        "    [0.3, 0.2, 2.5,1.0] ,  # Sample 5\n",
        "])\n",
        "\n",
        "# Softmax function\n",
        "def softmax(x):\n",
        "    exp_x = np.exp(x - np.max(x, axis=-1, keepdims=True))  # Numerical stability\n",
        "    return exp_x / np.sum(exp_x, axis=-1, keepdims=True)\n",
        "\n",
        "# Compute softmax probabilities\n",
        "probs = softmax(logits)\n",
        "print(\"Softmax Probabilities:\\n\", probs)\n",
        "\n",
        "# Compute log(probs)\n",
        "log_probs = np.log(probs)\n",
        "print(\"\\nLog of Softmax Probabilities:\\n\", log_probs)\n",
        "\n",
        "# Compute y_true * log(probs)\n",
        "y_true_log_probs = y_true * log_probs\n",
        "print(\"\\ny_true * log(probs):\\n\", y_true_log_probs)\n",
        "\n",
        "# Compute CE loss for each sample\n",
        "ce_loss = -np.sum(y_true_log_probs, axis=-1)\n",
        "print(\"\\nCE Loss per Sample:\", ce_loss)\n",
        "\n",
        "# Average CE loss for the dataset\n",
        "avg_ce_loss = np.mean(ce_loss)\n",
        "print(\"\\nAverage CE Loss for the Dataset:\", avg_ce_loss)"
      ]
    }
  ]
}